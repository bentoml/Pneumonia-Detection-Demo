{
 "cells": [
  {
   "cell_type": "code",
   "execution_count": null,
   "id": "2ce58e76",
   "metadata": {},
   "outputs": [],
   "source": [
    "!pip install -r ./requirements/pypi.txt"
   ]
  },
  {
   "cell_type": "code",
   "execution_count": null,
   "id": "43267648",
   "metadata": {},
   "outputs": [],
   "source": [
    "from train import *\n",
    "import torch.nn.functional as F\n",
    "from torchsummary import summary\n",
    "import PIL.Image\n",
    "from timeit import default_timer as timer"
   ]
  },
  {
   "cell_type": "code",
   "execution_count": null,
   "id": "a72e44cb",
   "metadata": {},
   "outputs": [],
   "source": [
    "trainL, testL, valL = prepare_dataloader()"
   ]
  },
  {
   "cell_type": "code",
   "execution_count": null,
   "id": "15d73f9b",
   "metadata": {},
   "outputs": [],
   "source": [
    "images, labels = next(iter(trainL))"
   ]
  },
  {
   "cell_type": "markdown",
   "id": "56f20342",
   "metadata": {},
   "source": [
    "---"
   ]
  },
  {
   "cell_type": "markdown",
   "id": "17de1f24",
   "metadata": {},
   "source": [
    "To compile model, run the below cell:"
   ]
  },
  {
   "cell_type": "code",
   "execution_count": null,
   "id": "8d5cf671",
   "metadata": {},
   "outputs": [],
   "source": [
    "model = init_model()"
   ]
  },
  {
   "cell_type": "code",
   "execution_count": null,
   "id": "00ccd6b2",
   "metadata": {},
   "outputs": [],
   "source": [
    "summary(model, tuple(images.shape[1:]))"
   ]
  },
  {
   "cell_type": "code",
   "execution_count": null,
   "id": "109ebe8f",
   "metadata": {},
   "outputs": [],
   "source": [
    "compiled = torch.compile(model, mode=\"max-autotune\", fullgraph=True)\n",
    "optimizer = optim.Adam(model.parameters(), lr=0.01)\n",
    "criterion = nn.CrossEntropyLoss()"
   ]
  },
  {
   "cell_type": "code",
   "execution_count": null,
   "id": "d0cfb711",
   "metadata": {},
   "outputs": [],
   "source": [
    "for epoch in range(10):\n",
    "    compiled = training_loop(compiled, optimizer, criterion, trainL, epoch)"
   ]
  },
  {
   "cell_type": "code",
   "execution_count": null,
   "id": "93af7de6",
   "metadata": {},
   "outputs": [],
   "source": [
    "torch.save(compiled.state_dict(), \"pneunomia-cnn.compiled.pth\")"
   ]
  },
  {
   "cell_type": "markdown",
   "id": "1b504c46",
   "metadata": {},
   "source": [
    "---"
   ]
  },
  {
   "cell_type": "markdown",
   "id": "0a4a2a7a",
   "metadata": {},
   "source": [
    "Training model loop:"
   ]
  },
  {
   "cell_type": "code",
   "execution_count": null,
   "id": "48fb176a",
   "metadata": {},
   "outputs": [],
   "source": [
    "model = init_model()"
   ]
  },
  {
   "cell_type": "code",
   "execution_count": null,
   "id": "da8e11a0",
   "metadata": {},
   "outputs": [],
   "source": [
    "optimizer = optim.Adam(model.parameters(), lr=0.01)\n",
    "criterion = nn.CrossEntropyLoss()"
   ]
  },
  {
   "cell_type": "markdown",
   "id": "ebaae624",
   "metadata": {},
   "source": [
    "---\n",
    "Save the model to BentoML model store:"
   ]
  },
  {
   "cell_type": "code",
   "execution_count": null,
   "id": "3f9a0f74",
   "metadata": {},
   "outputs": [],
   "source": [
    "bentomodel = bentoml.pytorch.save_model(\"pneumonia-cnn\", model)"
   ]
  },
  {
   "cell_type": "markdown",
   "id": "37903c7a",
   "metadata": {},
   "source": [
    "---\n",
    "Load back runners and run locally:"
   ]
  },
  {
   "cell_type": "code",
   "execution_count": null,
   "id": "35b9d807",
   "metadata": {},
   "outputs": [],
   "source": [
    "runner = bentoml.pytorch.get(\"resnet-pneumonia\").to_runner()\n",
    "runner.init_local()\n",
    "res = runner.run(images)"
   ]
  },
  {
   "cell_type": "code",
   "execution_count": null,
   "id": "0ace5924",
   "metadata": {},
   "outputs": [],
   "source": [
    "accuracy(res, labels)"
   ]
  },
  {
   "cell_type": "code",
   "execution_count": null,
   "id": "de0d761d",
   "metadata": {},
   "outputs": [],
   "source": [
    "acc, preds = accuracy(res, labels)\n",
    "acc.item()"
   ]
  },
  {
   "cell_type": "code",
   "execution_count": null,
   "id": "2838e947",
   "metadata": {},
   "outputs": [],
   "source": [
    "preds[0].item(), trainL.dataset.classes"
   ]
  },
  {
   "cell_type": "code",
   "execution_count": null,
   "id": "5dd65680",
   "metadata": {},
   "outputs": [],
   "source": [
    "trainL.dataset.classes[preds[0].item()]"
   ]
  },
  {
   "cell_type": "code",
   "execution_count": null,
   "id": "62ebdaf4",
   "metadata": {},
   "outputs": [],
   "source": [
    "tests = \"./data/chest_xray/chest_xray/val/NORMAL/NORMAL2-IM-1427-0001.jpeg\"\n",
    "im = PIL.Image.open(tests)\n",
    "im"
   ]
  },
  {
   "cell_type": "code",
   "execution_count": null,
   "id": "086cf68b",
   "metadata": {},
   "outputs": [],
   "source": [
    "preprocess = T.Compose(\n",
    "    [\n",
    "        T.Resize(size=256),\n",
    "        T.CenterCrop(size=224),\n",
    "        T.Grayscale(num_output_channels=3),\n",
    "        T.ToTensor(),\n",
    "        T.Normalize([0.485, 0.456, 0.406], [0.229, 0.224, 0.225]),\n",
    "    ]\n",
    ")\n",
    "preprocess(im).shape"
   ]
  },
  {
   "cell_type": "code",
   "execution_count": null,
   "id": "0caf1195",
   "metadata": {},
   "outputs": [],
   "source": []
  },
  {
   "cell_type": "markdown",
   "id": "99a81170",
   "metadata": {},
   "source": [
    "---\n",
    "Using PreTrained ResNet"
   ]
  },
  {
   "cell_type": "code",
   "execution_count": null,
   "id": "f963fc46",
   "metadata": {},
   "outputs": [],
   "source": [
    "model = init_model()"
   ]
  },
  {
   "cell_type": "code",
   "execution_count": null,
   "id": "7145d473",
   "metadata": {},
   "outputs": [],
   "source": [
    "summary(model, tuple(images.shape[1:]))"
   ]
  },
  {
   "cell_type": "code",
   "execution_count": null,
   "id": "0498ef24",
   "metadata": {},
   "outputs": [],
   "source": [
    "class_to_idx = trainL.dataset.class_to_idx\n",
    "idx_to_class = {idx: cls for cls, idx in class_to_idx.items()}\n",
    "class_to_idx, idx_to_class"
   ]
  },
  {
   "cell_type": "code",
   "execution_count": null,
   "id": "4db723ad",
   "metadata": {},
   "outputs": [],
   "source": [
    "classifier_dict = torch.load(\"./resnet50-pneumonia.pt\")\n",
    "model.load_state_dict(classifier_dict)"
   ]
  },
  {
   "cell_type": "code",
   "execution_count": null,
   "id": "9035b628",
   "metadata": {},
   "outputs": [],
   "source": [
    "optimizer = optim.Adam(model.parameters(), lr=0.01)\n",
    "criterion = nn.CrossEntropyLoss()"
   ]
  },
  {
   "cell_type": "code",
   "execution_count": null,
   "id": "b52503b8",
   "metadata": {},
   "outputs": [],
   "source": [
    "model, history = training(\n",
    "    model, criterion, optimizer, trainL, valL, \"resnet50-pneumonia.pt\"\n",
    ")"
   ]
  },
  {
   "cell_type": "code",
   "execution_count": null,
   "id": "6196612f",
   "metadata": {},
   "outputs": [],
   "source": [
    "bentomodel = bentoml.pytorch.save_model(\n",
    "    \"resnet-pneumonia\",\n",
    "    model,\n",
    "    metadata={\"idx2cls\": idx_to_class, \"cls2idx\": class_to_idx},\n",
    ")"
   ]
  },
  {
   "cell_type": "code",
   "execution_count": null,
   "id": "fac7a3b0",
   "metadata": {},
   "outputs": [],
   "source": [
    "runner = bentoml.pytorch.get(\"resnet-pneumonia\").to_runner()\n",
    "runner.init_local()"
   ]
  },
  {
   "cell_type": "code",
   "execution_count": null,
   "id": "613fb5ad",
   "metadata": {},
   "outputs": [],
   "source": [
    "res = runner.run(preprocess(im).unsqueeze(0))\n",
    "_, pred = torch.max(res, 1)\n",
    "pred.item()"
   ]
  },
  {
   "cell_type": "code",
   "execution_count": null,
   "id": "6d1cbe9d",
   "metadata": {},
   "outputs": [],
   "source": [
    "bentomodel.info.metadata"
   ]
  },
  {
   "cell_type": "code",
   "execution_count": null,
   "id": "8ce11e2c",
   "metadata": {},
   "outputs": [],
   "source": [
    "res"
   ]
  }
 ],
 "metadata": {
  "kernelspec": {
   "display_name": "Python 3 (ipykernel)",
   "language": "python",
   "name": "python3"
  },
  "language_info": {
   "codemirror_mode": {
    "name": "ipython",
    "version": 3
   },
   "file_extension": ".py",
   "mimetype": "text/x-python",
   "name": "python",
   "nbconvert_exporter": "python",
   "pygments_lexer": "ipython3",
   "version": "3.10.8"
  }
 },
 "nbformat": 4,
 "nbformat_minor": 5
}
